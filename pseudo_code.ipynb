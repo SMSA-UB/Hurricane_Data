{
 "cells": [
  {
   "cell_type": "code",
   "execution_count": 53,
   "metadata": {},
   "outputs": [],
   "source": [
    "class UAV:\n",
    "    def __init__(self,x=0,y=0,z=0,gx=0,gy=0,gz=0):\n",
    "        self.x = x\n",
    "        self.y = y\n",
    "        self.z = z\n",
    "        self.gx = gx\n",
    "        self.gy = gy\n",
    "        self.gz = gz\n",
    "    \n",
    "    def send(self,obj_list):\n",
    "        for obj in obj_list:\n",
    "            obj.recieve(self.x,self.y,self.z)\n",
    "    \n",
    "    def recieve(self,x,y,z):\n",
    "        print(x,y,z)\n",
    "        print(self.x,self.y,self.z)"
   ]
  },
  {
   "cell_type": "code",
   "execution_count": 54,
   "metadata": {},
   "outputs": [
    {
     "name": "stdout",
     "output_type": "stream",
     "text": [
      "1 20 10\n",
      "10 2 10\n",
      "1 20 10\n",
      "10 20 1\n"
     ]
    }
   ],
   "source": [
    "obj_list = list()\n",
    "#for i in range(n):\n",
    "#    obj_list[i] = UAV()\n",
    "uav1 = UAV(1,20,10,20,20,20)\n",
    "obj_list.append(uav1)\n",
    "uav2 = UAV(10,2,10,20,20,20)\n",
    "obj_list.append(uav2)\n",
    "uav3 = UAV(10,20,1,20,20,20)\n",
    "obj_list.append(uav3)\n",
    "if not(uav1.x == uav1.gx and uav1.y == uav1.gy and uav1.z == uav1.gz):\n",
    "    index = obj_list.index(uav1)\n",
    "    uav1.send([obj for ind,obj in enumerate(obj_list) if ind!=index] )"
   ]
  },
  {
   "cell_type": "code",
   "execution_count": null,
   "metadata": {},
   "outputs": [],
   "source": []
  }
 ],
 "metadata": {
  "kernelspec": {
   "display_name": "Python 3",
   "language": "python",
   "name": "python3"
  },
  "language_info": {
   "codemirror_mode": {
    "name": "ipython",
    "version": 3
   },
   "file_extension": ".py",
   "mimetype": "text/x-python",
   "name": "python",
   "nbconvert_exporter": "python",
   "pygments_lexer": "ipython3",
   "version": "3.7.6"
  }
 },
 "nbformat": 4,
 "nbformat_minor": 4
}
